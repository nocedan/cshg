{
 "cells": [
  {
   "cell_type": "markdown",
   "metadata": {},
   "source": [
    "## Data insights, few visualizations"
   ]
  },
  {
   "cell_type": "code",
   "execution_count": null,
   "metadata": {},
   "outputs": [],
   "source": [
    "import pandas as pd\n",
    "import numpy as np\n",
    "import seaborn as sns\n",
    "import matplotlib.pyplot as plt\n",
    "pd.options.display.max_columns = 200"
   ]
  },
  {
   "cell_type": "code",
   "execution_count": null,
   "metadata": {},
   "outputs": [],
   "source": [
    "compfin = pd.read_pickle('compfin.pkl')"
   ]
  },
  {
   "cell_type": "code",
   "execution_count": null,
   "metadata": {},
   "outputs": [],
   "source": [
    "compfin.head()"
   ]
  },
  {
   "cell_type": "code",
   "execution_count": null,
   "metadata": {},
   "outputs": [],
   "source": [
    "print(compfin.columns.values)"
   ]
  },
  {
   "cell_type": "markdown",
   "metadata": {},
   "source": [
    "## Ideas worth exploring\n",
    "\n",
    "- general description, totals and aggregated statistics\n",
    "- boxplots, distributions and correlations\n",
    "- analisys and insights\n",
    "\n",
    "## Data chraracteristics:\n",
    "\n",
    "- [dim] carteira_2016 ~ valor_total | has_detailed_information\n",
    "- [dim] amount of information per institution ~ valor_total | has_detailed_information\n",
    "- [dim] field of activity\n",
    "- calculated metrics\n",
    "- consolidated finances\n",
    "- detailed finances"
   ]
  },
  {
   "cell_type": "code",
   "execution_count": null,
   "metadata": {},
   "outputs": [],
   "source": [
    "num_org = compfin.groupby(['organizacao']).nome_projeto.count().count()\n",
    "num_proj = compfin.groupby(['organizacao', 'nome_projeto']).valor_total.count().count()\n",
    "pro_com_dado = compfin[~compfin.valor_total.isnull()].valor_total.count()\n",
    "\n",
    "val_tot = compfin['valor_total'].sum()\n",
    "val_sol = compfin['solicitado_iCSHG'].sum()\n",
    "val_tot_med = compfin['valor_total'].mean()\n",
    "val_sol_med = compfin['solicitado_iCSHG'].mean()\n",
    "num_ben = compfin['beneficiarios'].sum()\n",
    "num_ben_iCSHG = compfin['beneficiarios_iCSHG'].sum()\n",
    "# somente 23 tem info de carga horária\n",
    "hora_per_ben = compfin['carga_horaria'].mean()\n",
    "med_per_capita = compfin['per_capita'].median()\n",
    "med_per_capita_hor = compfin['per_capita_por_hora'].median()\n",
    "\n",
    "\n",
    "\n",
    "print(\"Número de organizações: %d\" % num_org)\n",
    "print(\"Número de projetos: %d\" % num_proj)\n",
    "print(\"Número de projetos com dados de aporte: %d\" % pro_com_dado)\n",
    "print(\"Valor total dos projetos: R$ %.2f MM\" % (val_tot/10**6))\n",
    "print(\"O valor solicitado ao iCSHG é de %.2f MM, correspondendo a %d%% do total\" % (val_sol/10**6, 100*val_sol/val_tot))\n",
    "print(\"Valor médio estimado por projeto atendido: %d Mil\" % (val_tot_med/10**3))\n",
    "\n",
    "print(\"Valor médio solicitado por projeto atendido: %d Mil\" % (val_sol_med/10**3))\n",
    "print(\"Número de beneficiados: %d\" % num_ben)\n",
    "print(\"Número de beneficiados iCSHG: %d\" % num_ben_iCSHG)\n",
    "\n",
    "print(\"Cada beneficiado recebe em média R$ %d\"% (val_tot/num_ben))\n",
    "print(\"Em média por beneficiario são investidas %d horas\" % hora_per_ben)\n",
    "# print(\"O valor mediano por instituição do per capita: %0.2f\" % med_per_capita)\n",
    "print(\"O valor mediano por instituição do per capita/hr : %0.2f\" % med_per_capita_hor)"
   ]
  },
  {
   "cell_type": "code",
   "execution_count": null,
   "metadata": {},
   "outputs": [],
   "source": [
    "# Parece um erro de digitação aqui:\n",
    "compfin.query(\"carteira_2016 == 0 and valor_total > 0\")"
   ]
  },
  {
   "cell_type": "markdown",
   "metadata": {},
   "source": [
    "5 maiores projetos"
   ]
  },
  {
   "cell_type": "code",
   "execution_count": null,
   "metadata": {},
   "outputs": [],
   "source": [
    "compfin.groupby(['organizacao','nome_projeto','area']).valor_total.sum().nlargest(5)"
   ]
  },
  {
   "cell_type": "markdown",
   "metadata": {},
   "source": [
    "5 maiores aportes"
   ]
  },
  {
   "cell_type": "code",
   "execution_count": null,
   "metadata": {},
   "outputs": [],
   "source": [
    "compfin.groupby(['organizacao','nome_projeto','area']).solicitado_iCSHG.sum().nlargest(5)"
   ]
  },
  {
   "cell_type": "markdown",
   "metadata": {},
   "source": [
    "Aportes por área"
   ]
  },
  {
   "cell_type": "code",
   "execution_count": null,
   "metadata": {},
   "outputs": [],
   "source": [
    "compfin[compfin.valor_total > 0].groupby(['area']).nome_projeto.count().sort_values(ascending = False)"
   ]
  },
  {
   "cell_type": "code",
   "execution_count": null,
   "metadata": {},
   "outputs": [],
   "source": [
    "#avalio a consistencia da marcação has_detailed_info\n",
    "\n",
    "# valor_total == 0\n",
    "#compfin[compfin.valor_total.isnull()].has_consolidated_info.value_counts()\n",
    "compfin[compfin.valor_total.isnull()].has_detailed_info.value_counts()"
   ]
  },
  {
   "cell_type": "code",
   "execution_count": null,
   "metadata": {},
   "outputs": [],
   "source": [
    "print()\n",
    "print(\"Informação financeira agregada (MM): nota-se que há alguns grandes players\")\n",
    "\n",
    "fin_agg = compfin[compfin.has_detailed_info][['ativo_2014', 'ativo_2015', 'pl_2014', 'pl_2015',\n",
    "         'receitas_2014', 'receitas_2015' ,'despesas_2014',\n",
    "         'despesas_2015']]/1000 # Odd! Too low! Have to multiply by 1000\n",
    "\n",
    "fin_agg.describe().round(1)"
   ]
  },
  {
   "cell_type": "code",
   "execution_count": null,
   "metadata": {},
   "outputs": [],
   "source": [
    "print()\n",
    "print(\"Receita detalhada (MM): nota-se que há alguns grandes players\")\n",
    "\n",
    "rec_det = compfin[compfin.has_detailed_info][['rec_empresas_2015', 'rec_fundacao_instituto_2015', 'rec_pf_2015', 'rec_governo_2015',\n",
    "       'rec_outros_2015']]/10**6# Odd! Too low! Have to multiply by \n",
    "\n",
    "rec_det.describe().round(1)"
   ]
  },
  {
   "cell_type": "code",
   "execution_count": null,
   "metadata": {},
   "outputs": [],
   "source": [
    "print()\n",
    "print(\"Despesa detalhada (MM): nota-se que há alguns grandes players\")\n",
    "\n",
    "des_det = compfin[compfin.has_detailed_info][['d_projetos', 'd_gerais_e_admin',\n",
    "       'd_folha_de_pagamento', 'd_outros']]/10**6 # Odd! Too low! Have to multiply by \n",
    "\n",
    "des_det.describe().round(1)"
   ]
  },
  {
   "cell_type": "markdown",
   "metadata": {},
   "source": [
    "- Vale entender outliers em receita\n",
    "- explorar razao valor_total/solicitado # Há instituições que recebem muito mais do que outras"
   ]
  },
  {
   "cell_type": "markdown",
   "metadata": {},
   "source": [
    "#### Boxplots, Distributions and correlations"
   ]
  },
  {
   "cell_type": "markdown",
   "metadata": {},
   "source": [
    "- aprox: 5 outliers, despesas 2014 tem pouca variação"
   ]
  },
  {
   "cell_type": "code",
   "execution_count": null,
   "metadata": {},
   "outputs": [],
   "source": [
    "plt.figure(figsize=(20, 10))\n",
    "plt.title(\"%s, %d\"%(\"Aggregated finances\", x.size))\n",
    "ax = sns.boxplot(data = fin_agg, orient = \"h\")\n",
    "ax = sns.swarmplot(data = fin_agg, orient = \"h\", color=\".25\")\n",
    "plt.show()"
   ]
  },
  {
   "cell_type": "markdown",
   "metadata": {},
   "source": [
    "- receita de fundação e pf com pouca variação, empresas têm maior variação. Receita outros relevante!"
   ]
  },
  {
   "cell_type": "code",
   "execution_count": null,
   "metadata": {},
   "outputs": [],
   "source": [
    "plt.figure(figsize=(20, 10))\n",
    "plt.title(\"%s, %d\"%(\"Detailed revenues\", x.size))\n",
    "ax = sns.boxplot(data = rec_det, orient = \"h\")\n",
    "ax = sns.swarmplot(data = rec_det, orient = \"h\", color=\".25\")\n",
    "plt.show()"
   ]
  },
  {
   "cell_type": "markdown",
   "metadata": {},
   "source": [
    "- os gastos com projetos são substancialmente maiores do que os demais tipos\n",
    "- seria interessante clusterizar por % de tipo de gastos"
   ]
  },
  {
   "cell_type": "code",
   "execution_count": null,
   "metadata": {},
   "outputs": [],
   "source": [
    "plt.figure(figsize=(20, 10))\n",
    "plt.title(\"%s, %d\"%(\"Detailed expenses\", x.size))\n",
    "ax = sns.boxplot(data = des_det, orient = \"h\")\n",
    "ax = sns.swarmplot(data = des_det, orient = \"h\", color=\".25\")\n",
    "plt.show()"
   ]
  },
  {
   "cell_type": "markdown",
   "metadata": {},
   "source": [
    "- ainda que haja campos calculados, vale entender as relações que aparecem com força\n",
    "- por exemplo, parece que surge uma divisão entre governo x solicitado"
   ]
  },
  {
   "cell_type": "code",
   "execution_count": null,
   "metadata": {},
   "outputs": [],
   "source": [
    "corr = compfin[compfin.has_detailed_info].corr()"
   ]
  },
  {
   "cell_type": "code",
   "execution_count": null,
   "metadata": {},
   "outputs": [],
   "source": [
    "from string import ascii_letters\n",
    "import numpy as np\n",
    "import pandas as pd\n",
    "import seaborn as sns\n",
    "import matplotlib.pyplot as plt\n",
    "\n",
    "sns.set(style=\"white\")\n",
    "\n",
    "# Generate a mask for the upper triangle\n",
    "mask = np.zeros_like(corr, dtype=np.bool)\n",
    "mask[np.triu_indices_from(mask)] = True\n",
    "\n",
    "# Set up the matplotlib figure\n",
    "f, ax = plt.subplots(figsize=(11, 9))\n",
    "\n",
    "# Generate a custom diverging colormap\n",
    "cmap = sns.diverging_palette(220, 10, as_cmap=True)\n",
    "\n",
    "# Draw the heatmap with the mask and correct aspect ratio\n",
    "sns.heatmap(corr, mask=mask, cmap=cmap, vmax=.3, center=0,\n",
    "            square=True, linewidths=.5, cbar_kws={\"shrink\": .5})"
   ]
  },
  {
   "cell_type": "code",
   "execution_count": null,
   "metadata": {},
   "outputs": [],
   "source": []
  }
 ],
 "metadata": {
  "kernelspec": {
   "display_name": "Python 3",
   "language": "python",
   "name": "python3"
  },
  "language_info": {
   "codemirror_mode": {
    "name": "ipython",
    "version": 3
   },
   "file_extension": ".py",
   "mimetype": "text/x-python",
   "name": "python",
   "nbconvert_exporter": "python",
   "pygments_lexer": "ipython3",
   "version": "3.6.6"
  }
 },
 "nbformat": 4,
 "nbformat_minor": 2
}
