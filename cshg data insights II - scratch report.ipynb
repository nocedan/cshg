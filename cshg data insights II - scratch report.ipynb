{
 "cells": [
  {
   "cell_type": "markdown",
   "metadata": {},
   "source": [
    "### Data insights - expansion"
   ]
  },
  {
   "cell_type": "markdown",
   "metadata": {},
   "source": [
    "### Comentários e conclusões:\n",
    "\n",
    "- Gostaria de trazer elementos de Infográfico para o Dashboard\n",
    "- Tipos de gráficos utilizados:scatterplot, barras, rosca, área, radar chart\n",
    "- É necessário encontrar uma forma de comunicar os resultados do PCA"
   ]
  },
  {
   "cell_type": "code",
   "execution_count": null,
   "metadata": {},
   "outputs": [],
   "source": [
    "import pandas as pd\n",
    "import numpy as np\n",
    "import seaborn as sns\n",
    "import matplotlib.pyplot as plt\n",
    "pd.options.display.max_columns = 200\n",
    "from sklearn.decomposition import PCA"
   ]
  },
  {
   "cell_type": "code",
   "execution_count": null,
   "metadata": {},
   "outputs": [],
   "source": [
    "compfin = pd.read_pickle('compfin.pkl')"
   ]
  },
  {
   "cell_type": "code",
   "execution_count": null,
   "metadata": {},
   "outputs": [],
   "source": [
    "compfin.head()"
   ]
  },
  {
   "cell_type": "code",
   "execution_count": null,
   "metadata": {},
   "outputs": [],
   "source": [
    "print(compfin.columns.values)"
   ]
  },
  {
   "cell_type": "markdown",
   "metadata": {},
   "source": [
    "### Let's expand all ideas to further converge them in a report\n",
    "\n",
    "- barr\n",
    "- scatter\n",
    "- histogram\n",
    "- explore some cool diagrams"
   ]
  },
  {
   "cell_type": "code",
   "execution_count": null,
   "metadata": {},
   "outputs": [],
   "source": [
    "# restrinjo a analise aos projetos com dados\n",
    "compfin = compfin[compfin.has_detailed_info]\n",
    "compfin = compfin.assign(id_org = lambda x: x.organizacao + \": \" + x.nome_projeto)\n",
    "compfin=compfin.sort_values('valor_total', ascending = False)"
   ]
  },
  {
   "cell_type": "code",
   "execution_count": null,
   "metadata": {},
   "outputs": [],
   "source": [
    "plt.figure(figsize=(20, 20))\n",
    "plt.title(\"Valor total e solicitado iCSHG\")\n",
    "sns.set(style=\"whitegrid\")\n",
    "ax = sns.barplot(y= 'id_org', x='valor_total',\n",
    "            data=compfin[['id_org', 'valor_total', 'solicitado_iCSHG']],\n",
    "            orient=\"h\", color = \"b\")\n",
    "ax = sns.barplot(y= 'id_org', x='solicitado_iCSHG',\n",
    "            data=compfin[['id_org', 'valor_total', 'solicitado_iCSHG']],\n",
    "            orient=\"h\")\n",
    "plt.show()"
   ]
  },
  {
   "cell_type": "markdown",
   "metadata": {},
   "source": [
    "- há projetos pequenos totalmente fundeados pelo iCSHG\n",
    "- o % de custeio do iCHSG varia bastante mesmo em projetos de porte equivalente"
   ]
  },
  {
   "cell_type": "markdown",
   "metadata": {},
   "source": [
    "## Ideia: um gráfico de área ficaria muito interessante (qudrados)"
   ]
  },
  {
   "cell_type": "code",
   "execution_count": null,
   "metadata": {},
   "outputs": [],
   "source": [
    "n_largest_iCSHG = compfin.groupby(['id_org']).solicitado_iCSHG.sum().nlargest(5).to_frame()\n",
    "n_largest_iCSHG.reset_index(inplace=True)\n",
    "\n",
    "plt.figure(figsize=(20, 10))\n",
    "plt.title(\"Valor solicitado iCSHG\")\n",
    "sns.set(style=\"whitegrid\")\n",
    "ax = sns.barplot(y= 'solicitado_iCSHG', x='id_org',\n",
    "            data=n_largest_iCSHG,\n",
    "            orient=\"v\", palette = \"rocket\")\n",
    "plt.show()"
   ]
  },
  {
   "cell_type": "code",
   "execution_count": null,
   "metadata": {},
   "outputs": [],
   "source": [
    "sns.set(style=\"white\")\n",
    "sns.relplot(x=\"per_capita\", y=\"beneficiarios\", \n",
    "            size=\"solicitado_iCSHG\", sizes=(100, 1000), \n",
    "            data=compfin,\n",
    "            height = 8,\n",
    "            hue = 'area',\n",
    "            palette=\"muted\")\n",
    "plt.show()"
   ]
  },
  {
   "cell_type": "markdown",
   "metadata": {},
   "source": [
    "- bolsas tem alto valor per capita e menor número de beneficiários\n",
    "- duas classes de projeto: per_capita baixo x beneficiarios baixo"
   ]
  },
  {
   "cell_type": "code",
   "execution_count": null,
   "metadata": {},
   "outputs": [],
   "source": [
    "sns.set(style=\"white\")\n",
    "sns.relplot(x=\"carga_horaria\", y=\"per_capita\", \n",
    "            size=\"beneficiarios\", sizes=(60, 600), \n",
    "            data=compfin,\n",
    "            height = 10,\n",
    "            hue = 'area'\n",
    "             )\n",
    "plt.show()"
   ]
  },
  {
   "cell_type": "markdown",
   "metadata": {},
   "source": [
    "- cutoff de carga horária\n",
    "- maior numero de beneficiarios concentra em per capita baixo e carga horária baixa\n",
    "- balanceado"
   ]
  },
  {
   "cell_type": "markdown",
   "metadata": {},
   "source": [
    "#### Sensação de que os plots não passam a noção do patamar dos números totais e médios"
   ]
  },
  {
   "cell_type": "code",
   "execution_count": null,
   "metadata": {},
   "outputs": [],
   "source": [
    "consolidated1 = compfin[compfin.valor_total > 0].groupby(['area']).\\\n",
    "nome_projeto.count().to_frame()\n",
    "consolidated1.rename(columns={\"nome_projeto\": \"counts\"}, inplace=True)\n",
    "\n",
    "consolidated2 = compfin[compfin.valor_total > 0].groupby(['area']).\\\n",
    "solicitado_iCSHG.sum().to_frame()\n",
    "\n",
    "consolidated = pd.concat([consolidated1,consolidated2], axis=1, names = ['count','sum'])\n",
    "consolidated.reset_index(inplace=True)\n",
    "consolidated.sort_values('counts', inplace=True)"
   ]
  },
  {
   "cell_type": "code",
   "execution_count": null,
   "metadata": {
    "scrolled": true
   },
   "outputs": [],
   "source": [
    "sns.set(style=\"white\", context=\"talk\")\n",
    "\n",
    "# Set up the matplotlib figure\n",
    "f, (ax1, ax2, ax3) = plt.subplots(3, 1, figsize=(10, 10), sharex=True)\n",
    "\n",
    "# Generate some sequential data\n",
    "x = consolidated.area\n",
    "y1 = consolidated.counts\n",
    "sns.barplot(x=x, y=y1, palette=\"rocket\", ax=ax1)\n",
    "ax1.axhline(0, color=\"k\", clip_on=False)\n",
    "ax1.set_ylabel(\"counts\")\n",
    "\n",
    "# Center the data to make it diverging\n",
    "x = consolidated.area\n",
    "y2 = consolidated.solicitado_iCSHG\n",
    "sns.barplot(x=x, y=y2, palette=\"rocket\", ax=ax2)\n",
    "ax2.axhline(0, color=\"k\", clip_on=False)\n",
    "ax2.set_ylabel(\"solicitado_iCSHG\")\n",
    "\n",
    "# Center the data to make it diverging\n",
    "x = consolidated.area\n",
    "y3 = consolidated.solicitado_iCSHG/consolidated.counts\n",
    "sns.barplot(x=x, y=y3, palette=\"rocket\", ax=ax3)\n",
    "ax3.axhline(0, color=\"k\", clip_on=False)\n",
    "ax3.set_ylabel(\"ratio\")\n",
    "\n",
    "# Finalize the plot\n",
    "sns.despine(bottom=True)\n",
    "plt.setp(f.axes, yticks=[])\n",
    "plt.tight_layout(h_pad=2)"
   ]
  },
  {
   "cell_type": "markdown",
   "metadata": {},
   "source": [
    "- ordena\n",
    "- a razao explode em Educação profissional"
   ]
  },
  {
   "cell_type": "code",
   "execution_count": null,
   "metadata": {},
   "outputs": [],
   "source": [
    "print()\n",
    "print(\"Informação financeira agregada (MM): nota-se que há alguns grandes players\")\n",
    "\n",
    "fin_agg = compfin[['id_org', 'ativo_2015','pl_2015',\n",
    "                    'receitas_2015','despesas_2015']] # Odd! Too low! Have to multiply by 1000"
   ]
  },
  {
   "cell_type": "code",
   "execution_count": null,
   "metadata": {},
   "outputs": [],
   "source": [
    "fin_agg = compfin[['id_org', 'ativo_2015',\n",
    "                    'receitas_2015','despesas_2015']] # Odd! Too low! Have to multiply by 1000\n",
    "\n",
    "sns.set(style=\"white\")\n",
    "sns.relplot(x=\"receitas_2015\", y=\"despesas_2015\", \n",
    "            size=\"ativo_2015\", sizes=(60, 600), \n",
    "\n",
    "            data=fin_agg,\n",
    "            height = 5             )\n",
    "plt.show()"
   ]
  },
  {
   "cell_type": "code",
   "execution_count": null,
   "metadata": {},
   "outputs": [],
   "source": [
    "sns.jointplot(x=fin_agg.receitas_2015, y=fin_agg.despesas_2015, data=fin_agg)"
   ]
  },
  {
   "cell_type": "code",
   "execution_count": null,
   "metadata": {},
   "outputs": [],
   "source": [
    "#for id_org in fin_agg.id_org:\n",
    "#    sns.barplot(data=fin_agg[fin_agg.id_org == id_org])\n",
    "#    plt.title(id_org)\n",
    "#    plt.show()"
   ]
  },
  {
   "cell_type": "code",
   "execution_count": null,
   "metadata": {},
   "outputs": [],
   "source": [
    "print()\n",
    "print(\"Receita detalhada (MM): nota-se que há alguns grandes players\")\n",
    "\n",
    "rec_det = compfin[compfin.has_detailed_info][['id_org', 'rec_empresas_2015', 'rec_fundacao_instituto_2015', 'rec_pf_2015', 'rec_governo_2015',\n",
    "       'rec_outros_2015']]\n",
    "for id_org in fin_agg.id_org:\n",
    "    sns.barplot(data=rec_det[rec_det.id_org == id_org])\n",
    "    plt.title(id_org)\n",
    "    plt.show()"
   ]
  },
  {
   "cell_type": "code",
   "execution_count": null,
   "metadata": {},
   "outputs": [],
   "source": [
    "print()\n",
    "print(\"Despesa detalhada (MM): nota-se que há alguns grandes players\")\n",
    "\n",
    "des_det = compfin[compfin.has_detailed_info][['id_org', 'd_projetos', 'd_gerais_e_admin',\n",
    "       'd_folha_de_pagamento', 'd_outros']]\n",
    "for id_org in fin_agg.id_org:\n",
    "    sns.barplot(data=des_det[des_det.id_org == id_org])\n",
    "    plt.title(id_org)\n",
    "    plt.show()"
   ]
  },
  {
   "cell_type": "markdown",
   "metadata": {},
   "source": [
    "### Ideia: é necessário : clusterizar, achar visualização adequada (plotly tem radar chart), ou t-sne x  pca"
   ]
  },
  {
   "cell_type": "markdown",
   "metadata": {},
   "source": [
    "### Ideia: É importante transmitir os totais. Vai enriquecer o leitor."
   ]
  },
  {
   "cell_type": "code",
   "execution_count": null,
   "metadata": {},
   "outputs": [],
   "source": [
    "rec_det = rec_det.set_index(\"id_org\")"
   ]
  },
  {
   "cell_type": "code",
   "execution_count": null,
   "metadata": {},
   "outputs": [],
   "source": [
    "rec_det=rec_det.fillna(0)"
   ]
  },
  {
   "cell_type": "code",
   "execution_count": null,
   "metadata": {},
   "outputs": [],
   "source": [
    "pca = PCA(n_components=2)\n",
    "principalComponents = pca.fit_transform(rec_det)\n",
    "principalDf = pd.DataFrame(data = principalComponents\n",
    "             , columns = ['pc1', 'pc2'], index = rec_det.index)\n",
    "sns.relplot(x = 'pc1', y = 'pc2',data = principalDf)\n",
    "plt.show()\n",
    "\n",
    "finalDf = pd.concat([principalDf, rec_det], axis = 1)\n",
    "print(pca.explained_variance_ratio_)\n",
    "print(pca.components_)\n",
    "r1 = rec_det[rec_det.index.isin(finalDf.pc1.nlargest(2).index)]\n",
    "sns.barplot(data =r1)\n",
    "plt.show()\n",
    "print(finalDf.pc1.nlargest(2))\n",
    "\n",
    "r2 = rec_det[rec_det.index.isin(finalDf.pc2.nlargest(3).index)]\n",
    "sns.barplot(data =r2)\n",
    "plt.show()\n",
    "print(finalDf.pc2.nlargest(3))"
   ]
  },
  {
   "cell_type": "code",
   "execution_count": null,
   "metadata": {},
   "outputs": [],
   "source": [
    "des_det = des_det.set_index(\"id_org\")"
   ]
  },
  {
   "cell_type": "code",
   "execution_count": null,
   "metadata": {},
   "outputs": [],
   "source": [
    "pca = PCA(n_components=2)\n",
    "principalComponents = pca.fit_transform(des_det)\n",
    "principalDf = pd.DataFrame(data = principalComponents\n",
    "             , columns = ['pc1', 'pc2'], index = des_det.index)\n",
    "sns.relplot(x = 'pc1', y = 'pc2',data = principalDf)\n",
    "plt.show()\n",
    "\n",
    "finalDf = pd.concat([principalDf, des_det], axis = 1)\n",
    "print(pca.explained_variance_ratio_)\n",
    "print(pca.components_)\n",
    "r1 = des_det[des_det.index.isin(finalDf.pc1.nlargest(2).index)]\n",
    "sns.barplot(data =r1)\n",
    "plt.show()\n",
    "print(finalDf.pc1.nlargest(2))\n",
    "\n",
    "r2 = des_det[des_det.index.isin(finalDf.pc2.nlargest(3).index)]\n",
    "sns.barplot(data =r2)\n",
    "plt.show()\n",
    "print(finalDf.pc2.nlargest(3))"
   ]
  },
  {
   "cell_type": "markdown",
   "metadata": {},
   "source": [
    " - vale a pena fazer % de despesa?\n",
    " - como colocar com fácil visualização"
   ]
  },
  {
   "cell_type": "code",
   "execution_count": null,
   "metadata": {},
   "outputs": [],
   "source": []
  }
 ],
 "metadata": {
  "kernelspec": {
   "display_name": "Python 3",
   "language": "python",
   "name": "python3"
  },
  "language_info": {
   "codemirror_mode": {
    "name": "ipython",
    "version": 3
   },
   "file_extension": ".py",
   "mimetype": "text/x-python",
   "name": "python",
   "nbconvert_exporter": "python",
   "pygments_lexer": "ipython3",
   "version": "3.6.6"
  }
 },
 "nbformat": 4,
 "nbformat_minor": 2
}
