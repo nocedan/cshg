{
 "cells": [
  {
   "cell_type": "markdown",
   "metadata": {},
   "source": [
    "### From the insight analisys, we came up with the following Dashboard structure:\n",
    "\n",
    "#### Resource distribution per institution\n",
    "- Barchart with total value and iCSHG value per institution sorted by total value\n",
    "- Highlights nn projects, xxMM of total value, pp% iCSHG total yMM\n",
    "- Interactivity: total and iCSHG value per project, sorting per iCSHG value as well\n",
    "\n",
    "#### Drew down to resource distribution view\n",
    "- Distribution by activity field and project mean iCSHG value per field: highlights professional education\n",
    "- Table with aggregated finances with filter for top 5: hightligths revenue outliers\n",
    "- optional: area chart\n",
    "\n",
    "#### Institution assistence characteristics\n",
    "- xx k benefited, R$ yk per benefited, hh\n",
    "- Scatterplot relating per_capita x carga horaria cutoff and segmentation of benefited quantity\n",
    "- (cutoff + per_capita x benefited tradeoff)"
   ]
  },
  {
   "cell_type": "code",
   "execution_count": null,
   "metadata": {},
   "outputs": [],
   "source": [
    "import pandas as pd\n",
    "import numpy as np\n",
    "import seaborn as sns\n",
    "import matplotlib.pyplot as plt\n",
    "pd.options.display.max_columns = 200\n",
    "from sklearn.decomposition import PCA\n",
    "\n",
    "import plotly.offline as pyoff\n",
    "import plotly.plotly as py\n",
    "import plotly.graph_objs as go\n",
    "from plotly import tools"
   ]
  },
  {
   "cell_type": "code",
   "execution_count": null,
   "metadata": {},
   "outputs": [],
   "source": [
    "compfin = pd.read_pickle('compfin.pkl')"
   ]
  },
  {
   "cell_type": "markdown",
   "metadata": {},
   "source": [
    "### Resource distribution per institution"
   ]
  },
  {
   "cell_type": "code",
   "execution_count": null,
   "metadata": {},
   "outputs": [],
   "source": [
    "# restrinjo a analise aos projetos com dados\n",
    "compfin = compfin[compfin.has_detailed_info]\n",
    "compfin = compfin.assign(id_org = lambda x: x.organizacao + \": \" + x.nome_projeto)\n",
    "compfin=compfin.sort_values('valor_total', ascending = True)"
   ]
  },
  {
   "cell_type": "code",
   "execution_count": null,
   "metadata": {},
   "outputs": [],
   "source": [
    "compfin.id_org = compfin.id_org.str.strip() + \" \""
   ]
  },
  {
   "cell_type": "code",
   "execution_count": null,
   "metadata": {},
   "outputs": [],
   "source": [
    "compfin.set_index('id_org', inplace=True)"
   ]
  },
  {
   "cell_type": "code",
   "execution_count": null,
   "metadata": {},
   "outputs": [],
   "source": [
    "compfin[compfin.organizacao==\"Verdescola\"]"
   ]
  },
  {
   "cell_type": "code",
   "execution_count": null,
   "metadata": {},
   "outputs": [],
   "source": [
    "help(go.Layout)"
   ]
  },
  {
   "cell_type": "code",
   "execution_count": null,
   "metadata": {},
   "outputs": [],
   "source": [
    "trace1 = go.Bar(\n",
    "                x=compfin.valor_total,\n",
    "                y=compfin.organizacao.str.strip() + \" \",\n",
    "                orientation = 'h',\n",
    "                text = compfin.nome_projeto.str.strip(),\n",
    "                name = \"Valor Total\"\n",
    "                )\n",
    "\n",
    "trace2 = go.Bar(\n",
    "                x=compfin.solicitado_iCSHG,\n",
    "                y=compfin.organizacao.str.strip() + \" \",\n",
    "                orientation = 'h',\n",
    "                text = compfin.nome_projeto.str.strip(),\n",
    "                name = \"Solicitado iCSHG\"\n",
    "                )\n",
    "\n",
    "data = [trace1, trace2]\n",
    "\n",
    "pyoff.init_notebook_mode(connected=True)\n",
    "\n",
    "#pyoff.iplot({\n",
    "#    \"data\": data,\n",
    "#    \"layout\": go.Layout(\n",
    "#                        title=\"Total de 29 projetos, 37 MM e 22% de Contribuição CSHG\", \n",
    "#                        barmode = \"overlay\",\n",
    "#                        barnorm = \"percent\",\n",
    "#                        margin=dict(\n",
    "#                                    l=220,\n",
    "#                                    r=10,\n",
    "#                                    t=140,\n",
    "#                                    b=80\n",
    "#                                    )\n",
    "#                        )\n",
    "#})"
   ]
  },
  {
   "cell_type": "code",
   "execution_count": null,
   "metadata": {},
   "outputs": [],
   "source": [
    "pyoff.plot({\n",
    "    \"data\": data,\n",
    "    \"layout\": go.Layout(\n",
    "                        title=\"Total de nn projetos, xx MM e pp% de Contribuição CSHG\", \n",
    "                        barmode = \"overlay\",\n",
    "                        barnorm = \"percent\",\n",
    "                        margin=dict(\n",
    "                                    l=220,\n",
    "                                    r=10,\n",
    "                                    t=140,\n",
    "                                    b=80\n",
    "                                    )\n",
    "                        )\n",
    "}, auto_open=True)"
   ]
  },
  {
   "cell_type": "markdown",
   "metadata": {},
   "source": [
    "### Drew down to resource distribution view"
   ]
  },
  {
   "cell_type": "code",
   "execution_count": null,
   "metadata": {},
   "outputs": [],
   "source": [
    "consolidated1 = compfin[compfin.valor_total > 0].groupby(['area']).\\\n",
    "nome_projeto.count().to_frame()\n",
    "consolidated1.rename(columns={\"nome_projeto\": \"counts\"}, inplace=True)\n",
    "\n",
    "consolidated2 = compfin[compfin.valor_total > 0].groupby(['area']).\\\n",
    "solicitado_iCSHG.mean().to_frame()\n",
    "consolidated2.rename(columns={\"solicitado_iCSHG\": \"means\"}, inplace=True)\n",
    "\n",
    "\n",
    "consolidated3 = compfin[compfin.valor_total > 0].groupby(['area']).\\\n",
    "solicitado_iCSHG.sum().to_frame()\n",
    "consolidated3.rename(columns={\"solicitado_iCSHG\": \"sums\"}, inplace=True)\n",
    "\n",
    "\n",
    "consolidated = pd.concat([consolidated1,consolidated2,consolidated3], axis=1)\n",
    "consolidated.reset_index(inplace=True)\n",
    "consolidated.sort_values('counts', inplace=True)"
   ]
  },
  {
   "cell_type": "code",
   "execution_count": null,
   "metadata": {},
   "outputs": [],
   "source": [
    "consolidated.head()"
   ]
  },
  {
   "cell_type": "code",
   "execution_count": null,
   "metadata": {},
   "outputs": [],
   "source": [
    "# fazer esse aqui: https://plot.ly/python/horizontal-bar-charts/\n",
    "\n",
    "trace1 = go.Bar(\n",
    "                y=consolidated.counts,\n",
    "                x=consolidated.area.str.strip(),\n",
    "                )\n",
    "\n",
    "trace2 = go.Scatter(\n",
    "                y=consolidated.means,\n",
    "                x=consolidated.area.str.strip(),\n",
    "                text = \"total CSHG: \"+consolidated.sums.astype('str'),\n",
    "                name = \"Solicitado iCSHG\",\n",
    "                yaxis='y2'\n",
    "                )\n",
    "\n",
    "data = [trace1, trace2]\n",
    "\n",
    "pyoff.init_notebook_mode(connected=True)\n",
    "\n",
    "pyoff.plot({\n",
    "    \"data\": data,\n",
    "    \"layout\": go.Layout(title=\"Quantidade de projetos por área\",\n",
    "                       yaxis=dict(\n",
    "        title='yaxis title'\n",
    "    ),\n",
    "    yaxis2=dict(\n",
    "                title='yaxis2 title',\n",
    "                titlefont=dict(\n",
    "                color='rgb(148, 103, 189)'),\n",
    "                overlaying = 'y',\n",
    "                side = 'right'\n",
    "            )\n",
    "    )\n",
    "        \n",
    "}, auto_open=True)"
   ]
  },
  {
   "cell_type": "markdown",
   "metadata": {},
   "source": [
    "- ou dá um colorido ou muda para linha"
   ]
  },
  {
   "cell_type": "code",
   "execution_count": null,
   "metadata": {},
   "outputs": [],
   "source": [
    "consolidated.sums.astype('str')"
   ]
  },
  {
   "cell_type": "code",
   "execution_count": null,
   "metadata": {},
   "outputs": [],
   "source": [
    "trace1 = {\"x\": compfin.receitas_2015, \n",
    "          \"y\": compfin.organizacao.str.strip()+\" \", \n",
    "          \"marker\": {\"color\": \"blue\", \"size\": 12}, \n",
    "          \"mode\": \"markers\", \n",
    "          \"name\": \"Receitas 2015\", \n",
    "          \"type\": \"scatter\"\n",
    "         }\n",
    "\n",
    "trace2 = {\"x\": compfin.despesas_2015, \n",
    "          \"y\": compfin.organizacao.str.strip()+\" \", \n",
    "          \"marker\": {\"color\": \"red\", \"size\": 12}, \n",
    "          \"mode\": \"markers\", \n",
    "          \"name\": \"Despesas 2015\", \n",
    "          \"type\": \"scatter\"\n",
    "         }\n",
    "\n",
    "trace3 = {\"x\": compfin.ativo_2015, \n",
    "          \"y\": compfin.organizacao.str.strip()+\" \", \n",
    "          \"marker\": {\"color\": \"green\", \"size\": 12}, \n",
    "          \"mode\": \"markers\", \n",
    "          \"name\": \"Ativo 2015\", \n",
    "          \"type\": \"scatter\"\n",
    "         }\n",
    "\n",
    "trace4 = {\"x\": compfin.pl_2015, \n",
    "          \"y\": compfin.organizacao.str.strip()+\" \", \n",
    "          \"marker\": {\"color\": \"black\", \"size\": 12}, \n",
    "          \"mode\": \"markers\", \n",
    "          \"name\": \"PL 2015\", \n",
    "          \"type\": \"scatter\"\n",
    "         }\n",
    "\n",
    "data = [trace1, trace2, trace3, trace4]\n",
    "layout = {\"title\": \"Finanças\", \n",
    "          \"xaxis\": {\"title\": \"(Reais)\", \"type\": \"log\"}, \n",
    "          \"yaxis\": {\"title\": \"Instituição\"},\n",
    "          \"margin\": dict(\n",
    "                                    l=220,\n",
    "                                    r=10,\n",
    "                                    t=140,\n",
    "                                    b=80\n",
    "                                    )\n",
    "         }\n",
    "\n",
    "fig = go.Figure(data=data, layout=layout)\n",
    "\n",
    "pyoff.plot({\n",
    "    \"data\": data,\n",
    "    \"layout\": layout\n",
    "}, auto_open=True)"
   ]
  },
  {
   "cell_type": "markdown",
   "metadata": {},
   "source": [
    "### Institution assistence characteristics"
   ]
  },
  {
   "cell_type": "code",
   "execution_count": null,
   "metadata": {},
   "outputs": [],
   "source": [
    "hover_text = []\n",
    "bubble_size = []\n",
    "\n",
    "for index, row in compfin.iterrows():\n",
    "    hover_text.append(('Organização: {organizacao} <br>'+\n",
    "                      'Projeto: {nome_projeto} <br>'+\n",
    "                      'Valor total: {valor_total} <br>').format(organizacao = row['organizacao'],\n",
    "                               nome_projeto = row['nome_projeto'],\n",
    "                               valor_total = row['valor_total']))\n",
    "    bubble_size.append(row['beneficiarios'])\n",
    "\n",
    "compfin['text'] = hover_text\n",
    "compfin['size'] = bubble_size\n",
    "sizeref = 1\n",
    "\n",
    "data = []\n",
    "for area in set(compfin.area):\n",
    "    data.append(\n",
    "        go.Scatter(\n",
    "        x=compfin['carga_horaria'][compfin['area'] == area],\n",
    "        y=compfin['per_capita'][compfin['area'] == area],\n",
    "        mode='markers',\n",
    "        name=area,\n",
    "        text=compfin['text'][compfin['area'] == area],\n",
    "        marker=dict(\n",
    "            symbol='circle',\n",
    "            sizemode='area',\n",
    "            sizeref=1,\n",
    "            size=compfin['size'][compfin['area'] == area],\n",
    "            line=dict(\n",
    "                width=2\n",
    "                ),\n",
    "                    )\n",
    "                )\n",
    "    )\n",
    "\n",
    "layout = go.Layout(\n",
    "    title='Carga horária, valor per capita e beneficiários',\n",
    "    xaxis=dict(\n",
    "        title='Carga horária (h)',\n",
    "        gridcolor='rgb(255, 255, 255)',\n",
    "        #range=[2.003297660701705, 5.191505530708712],\n",
    "        #type='log',\n",
    "        zerolinewidth=1,\n",
    "        ticklen=5,\n",
    "        gridwidth=2,\n",
    "    ),\n",
    "    yaxis=dict(\n",
    "        title='Per capita (R$)',\n",
    "        gridcolor='rgb(255, 255, 255)',\n",
    "        #range=[36.12621671352166, 91.72921793264332],\n",
    "        zerolinewidth=1,\n",
    "        ticklen=5,\n",
    "        gridwidth=2,\n",
    "    ),\n",
    "    paper_bgcolor='rgb(243, 243, 243)',\n",
    "    plot_bgcolor='rgb(243, 243, 243)',\n",
    ")\n",
    "\n",
    "fig = go.Figure(data=data, layout=layout)\n",
    "\n",
    "pyoff.plot({\n",
    "    \"data\": data,\n",
    "    \"layout\": layout\n",
    "}, auto_open=True)"
   ]
  },
  {
   "cell_type": "code",
   "execution_count": null,
   "metadata": {},
   "outputs": [],
   "source": [
    "#hora_per_capita = compfin.carga_horaria/compfin.per_capita\n",
    "#hora_per_capita = compfin[compfin.index.isin(hora_per_capita.nlargest(5).index)]\n",
    "#x_= hora_per_capita.carga_horaria \n",
    "#y_ = hora_per_capita.per_capita\n",
    "#annotations = []\n",
    "#for x_,y_ in zip(x_.values,y_.values):\n",
    "#    annotations.append(\n",
    "#            dict(\n",
    "#            x=x_,\n",
    "#            y=y_,\n",
    "#            xref='x',\n",
    "#            yref='y',\n",
    "#            text='hr/per_capita',\n",
    "#            showarrow=True,\n",
    "#            arrowhead=7,\n",
    "#            ax=0,\n",
    "#            ay=-40\n",
    "#            )\n",
    "#    )"
   ]
  },
  {
   "cell_type": "code",
   "execution_count": null,
   "metadata": {},
   "outputs": [],
   "source": []
  }
 ],
 "metadata": {
  "kernelspec": {
   "display_name": "Python 3",
   "language": "python",
   "name": "python3"
  },
  "language_info": {
   "codemirror_mode": {
    "name": "ipython",
    "version": 3
   },
   "file_extension": ".py",
   "mimetype": "text/x-python",
   "name": "python",
   "nbconvert_exporter": "python",
   "pygments_lexer": "ipython3",
   "version": "3.6.6"
  }
 },
 "nbformat": 4,
 "nbformat_minor": 2
}
